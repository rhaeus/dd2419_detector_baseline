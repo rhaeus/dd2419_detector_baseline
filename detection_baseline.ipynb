{
  "nbformat": 4,
  "nbformat_minor": 0,
  "metadata": {
    "colab": {
      "name": "Copy of detection_baseline.ipynb",
      "provenance": [],
      "collapsed_sections": [],
      "include_colab_link": true
    },
    "kernelspec": {
      "name": "python3",
      "display_name": "Python 3"
    },
    "accelerator": "GPU"
  },
  "cells": [
    {
      "cell_type": "markdown",
      "metadata": {
        "id": "view-in-github",
        "colab_type": "text"
      },
      "source": [
        "<a href=\"https://colab.research.google.com/github/rhaeus/dd2419_detector_baseline/blob/main/detection_baseline.ipynb\" target=\"_parent\"><img src=\"https://colab.research.google.com/assets/colab-badge.svg\" alt=\"Open In Colab\"/></a>"
      ]
    },
    {
      "cell_type": "code",
      "metadata": {
        "id": "ml5Cvf2U2-nP",
        "colab": {
          "base_uri": "https://localhost:8080/"
        },
        "outputId": "3a564ee7-2113-460e-bd6d-c225ba1055c7"
      },
      "source": [
        "# Clone the baseline repository (once you develop your own code you should \n",
        "# replace this with your repo / or upload your code manually)\n",
        "%cd /content/\n",
        "!rm -rf dd2419_detector_baseline\n",
        "!git clone https://github.com/rhaeus/dd2419_detector_baseline.git\n",
        "%cd /content/dd2419_detector_baseline/"
      ],
      "execution_count": null,
      "outputs": [
        {
          "output_type": "stream",
          "text": [
            "/content\n",
            "Cloning into 'dd2419_detector_baseline'...\n",
            "remote: Enumerating objects: 59, done.\u001b[K\n",
            "remote: Counting objects: 100% (59/59), done.\u001b[K\n",
            "remote: Compressing objects: 100% (44/44), done.\u001b[K\n",
            "remote: Total 59 (delta 24), reused 39 (delta 12), pack-reused 0\u001b[K\n",
            "Unpacking objects: 100% (59/59), done.\n",
            "/content/dd2419_detector_baseline\n"
          ],
          "name": "stdout"
        }
      ]
    },
    {
      "cell_type": "code",
      "metadata": {
        "id": "WXe-MjvOPqL0",
        "colab": {
          "base_uri": "https://localhost:8080/"
        },
        "outputId": "c8a1bbf9-d562-4f03-ddd6-8953917d4822"
      },
      "source": [
        "# Download the dataset (note that you invoke shell commands with !... in colab)\n",
        "!wget -q https://kth.box.com/shared/static/oa8sfclqqxfi6xc4752vgswtc34s9lgw.zip -O dd2419_coco.zip\n",
        "!unzip -qo dd2419_coco.zip\n",
        "\n",
        "# Install required packages (change to pip for Python 3)\n",
        "# (You can ignore the incompatability errors)\n",
        "!pip2 -q install wandb"
      ],
      "execution_count": null,
      "outputs": [
        {
          "output_type": "stream",
          "text": [
            "\u001b[K     |████████████████████████████████| 2.0MB 4.3MB/s \n",
            "\u001b[K     |████████████████████████████████| 235kB 12.1MB/s \n",
            "\u001b[K     |████████████████████████████████| 1.0MB 19.2MB/s \n",
            "\u001b[K     |████████████████████████████████| 460kB 24.5MB/s \n",
            "\u001b[K     |████████████████████████████████| 133kB 35.4MB/s \n",
            "\u001b[K     |████████████████████████████████| 71kB 7.3MB/s \n",
            "\u001b[?25h  Building wheel for pathtools (setup.py) ... \u001b[?25l\u001b[?25hdone\n",
            "  Building wheel for shortuuid (setup.py) ... \u001b[?25l\u001b[?25hdone\n",
            "  Building wheel for smmap2 (setup.py) ... \u001b[?25l\u001b[?25hdone\n",
            "\u001b[31mERROR: tensorflow 2.1.0 has requirement tensorflow-estimator<2.2.0,>=2.1.0rc0, but you'll have tensorflow-estimator 1.15.0 which is incompatible.\u001b[0m\n",
            "\u001b[31mERROR: fastai 0.7.0 has requirement torch<0.4, but you'll have torch 1.4.0 which is incompatible.\u001b[0m\n",
            "\u001b[31mERROR: tensorboard 2.1.0 has requirement google-auth-oauthlib<0.5,>=0.4.1, but you'll have google-auth-oauthlib 0.4.0 which is incompatible.\u001b[0m\n",
            "\u001b[31mERROR: tensorboard 2.1.0 has requirement grpcio>=1.24.3, but you'll have grpcio 1.15.0 which is incompatible.\u001b[0m\n"
          ],
          "name": "stdout"
        }
      ]
    },
    {
      "cell_type": "code",
      "metadata": {
        "id": "fsWAlHbdALBo",
        "colab": {
          "base_uri": "https://localhost:8080/"
        },
        "outputId": "31a627c3-7f64-431b-bbf6-31611220c81a"
      },
      "source": [
        "# If you don't want to use wandb uncomment the following commands and leave API \n",
        "# key empty when running the training script\n",
        "# !wandb disabled\n",
        "\n",
        "# If you want to use wandb uncomment the following lines to enable and login\n",
        "# with your API key (just follow the link to get it)\n",
        "!wandb enabled\n",
        "!wandb login"
      ],
      "execution_count": null,
      "outputs": [
        {
          "output_type": "stream",
          "text": [
            "W&B enabled.\n",
            "\u001b[34m\u001b[1mwandb\u001b[0m: You can find your API key in your browser here: https://wandb.ai/authorize\n",
            "\u001b[34m\u001b[1mwandb\u001b[0m: Paste an API key from your profile and hit enter: \n",
            "\u001b[34m\u001b[1mwandb\u001b[0m: Appending key for api.wandb.ai to your netrc file: /root/.netrc\n"
          ],
          "name": "stdout"
        }
      ]
    },
    {
      "cell_type": "code",
      "metadata": {
        "id": "DwiSKAhcQk5Y",
        "colab": {
          "base_uri": "https://localhost:8080/"
        },
        "outputId": "85f5f05f-6f3e-426e-b774-2fea5f5e9bb8"
      },
      "source": [
        "!python2 train.py --gpu"
      ],
      "execution_count": null,
      "outputs": [
        {
          "output_type": "stream",
          "text": [
            "\u001b[34m\u001b[1mwandb\u001b[0m: Currently logged in as: \u001b[33mramona-ha\u001b[0m (use `wandb login --relogin` to force relogin)\n",
            "\u001b[34m\u001b[1mwandb\u001b[0m: Tracking run with wandb version 0.10.18\n",
            "\u001b[34m\u001b[1mwandb\u001b[0m: Syncing run \u001b[33miconic-firebrand-2\u001b[0m\n",
            "\u001b[34m\u001b[1mwandb\u001b[0m: ⭐️ View project at \u001b[34m\u001b[4mhttps://wandb.ai/ramona-ha/detector_baseline\u001b[0m\n",
            "\u001b[34m\u001b[1mwandb\u001b[0m: 🚀 View run at \u001b[34m\u001b[4mhttps://wandb.ai/ramona-ha/detector_baseline/runs/iq36nf8c\u001b[0m\n",
            "\u001b[34m\u001b[1mwandb\u001b[0m: Run data is saved locally in /content/dd2419_detector_baseline/wandb/run-20210209_193558-iq36nf8c\n",
            "\u001b[34m\u001b[1mwandb\u001b[0m: Run `wandb offline` to turn off syncing.\n",
            "\n",
            "loading annotations into memory...\n",
            "Done (t=0.01s)\n",
            "creating index...\n",
            "index created!\n",
            "Training started...\n",
            "Iteration: 141, loss: 0.151882603765Traceback (most recent call last):\n",
            "  File \"train.py\", line 168, in <module>\n",
            "    train(args.device)\n",
            "  File \"train.py\", line 108, in train\n",
            "    optimizer.step()\n",
            "  File \"/usr/local/lib/python2.7/dist-packages/torch/optim/adam.py\", line 95, in step\n",
            "    exp_avg.mul_(beta1).add_(1 - beta1, grad)\n",
            "KeyboardInterrupt\n",
            "\n",
            "\u001b[34m\u001b[1mwandb\u001b[0m: Waiting for W&B process to finish, PID 429\n",
            "\u001b[34m\u001b[1mwandb\u001b[0m: Program failed with code 255.  Press ctrl-c to abort syncing.\n",
            "\u001b[34m\u001b[1mwandb\u001b[0m:                                                                                \n",
            "Process wandb_internal:\n",
            "Traceback (most recent call last):\n",
            "  File \"/usr/lib/python2.7/multiprocessing/process.py\", line 267, in _bootstrap\n",
            "    self.run()\n",
            "  File \"/usr/lib/python2.7/multiprocessing/process.py\", line 114, in run\n",
            "    self._target(*self._args, **self._kwargs)\n",
            "  File \"/usr/local/lib/python2.7/dist-packages/wandb/sdk_py27/internal/internal.py\", line 153, in wandb_internal\n",
            "    thread.join()\n",
            "  File \"/usr/lib/python2.7/threading.py\", line 940, in join\n",
            "    self.__block.wait()\n",
            "  File \"/usr/lib/python2.7/threading.py\", line 340, in wait\n",
            "    waiter.acquire()\n",
            "KeyboardInterrupt\n",
            "^C\n"
          ],
          "name": "stdout"
        }
      ]
    }
  ]
}
